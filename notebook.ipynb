{
 "cells": [
  {
   "cell_type": "markdown",
   "metadata": {},
   "source": [
    "<img src=\"http://oci02.img.iteso.mx/identidad_de_instancia_2018/ITESO/Logos%20ITESO/Logo-ITESO-Principal.jpg\">"
   ]
  },
  {
   "cell_type": "markdown",
   "metadata": {},
   "source": [
    "<center><font color=#555555><font size=6> Ingeniería Financiera </font> <br> <br>\n",
    "\n",
    "<center><font color=#555555><font size=5> PAP </font> <br> <br> <br>\n",
    "\n",
    "<center><font color=#555555><font size=5> I.F. Renatta García Sánchez </font> <br> <br>\n",
    "   \n",
    "<center> <font color= #555555> <font size = 4> Mayo 2020 </a> | <font color= #555555> <font size = 4> Repositorio: <a href='https://github.com/renattaGS/PAP-ML-ETICO'>Link</a></font>"
   ]
  },
  {
   "cell_type": "markdown",
   "metadata": {},
   "source": [
    "<br>"
   ]
  },
  {
   "cell_type": "markdown",
   "metadata": {},
   "source": [
    "---"
   ]
  },
  {
   "cell_type": "markdown",
   "metadata": {},
   "source": [
    "<br>"
   ]
  },
  {
   "cell_type": "markdown",
   "metadata": {},
   "source": [
    "<br>"
   ]
  },
  {
   "cell_type": "markdown",
   "metadata": {},
   "source": [
    "<center> <font color= #555555> <font size = 6> Machine Learning ético </font> <br> <br> <font color= #555555>  </font>"
   ]
  },
  {
   "cell_type": "markdown",
   "metadata": {},
   "source": [
    "# <font color= #555555> <font size = 5> Abstract </font>"
   ]
  },
  {
   "cell_type": "markdown",
   "metadata": {},
   "source": [
    "<font color= #6B6B6B> <font size = 2> Este documento fue elaborado por Renatta García Sánchez, como trabajo para el proyecto de aplicación profesional: OPTIMIZACIÓN DE PROGRAMAS DE INVERSIÓN EN INTERMEDIARIOS FINANCIEROS, la cuál es parte del currículum de la licenciatura en Ingeniería Financiera, ofertada por la universidad **ITESO**. En el presente trabajo, se plantea la respuesta a la siguiente pregunta: </font> "
   ]
  },
  {
   "cell_type": "markdown",
   "metadata": {},
   "source": [
    "<br>"
   ]
  },
  {
   "cell_type": "markdown",
   "metadata": {},
   "source": [
    "# <font color= #6B6B6B> <font size = 6> 0. Librerías y Dependencias </font>"
   ]
  },
  {
   "cell_type": "markdown",
   "metadata": {},
   "source": [
    "<hr style=\"border:0.02in solid gray\"> </hr>"
   ]
  },
  {
   "cell_type": "markdown",
   "metadata": {},
   "source": [
    "# <font color= #6B6B6B> <font size = 5> 0.1 Librerías </font> <font color= #555555>"
   ]
  },
  {
   "cell_type": "markdown",
   "metadata": {},
   "source": [
    "Para correr este notebook es necesario tener instaladas y/o en el archivo _requirements.txt_ las siguientes librerías :"
   ]
  },
  {
   "cell_type": "markdown",
   "metadata": {},
   "source": [
    "- pandas>=1.1.1 \n",
    "- pandas-profiling>=2.11.0\n",
    "- jupyter>=1.0.0\n",
    "- numpy>= 1.19.1\n",
    "- statsmodels>=0.11.1\n",
    "- openpyxl>=3.0.5\n",
    "- matplotlib>=3.3.1\n",
    "- scikit-learn>=0.23.2\n"
   ]
  },
  {
   "cell_type": "markdown",
   "metadata": {},
   "source": [
    "# <font color= #6B6B6B> <font size = 5> 0.2 Dependencias </font> <font color= #555555>"
   ]
  },
  {
   "cell_type": "markdown",
   "metadata": {},
   "source": [
    "Para correr este notebook es necesario contar con los siguientes archivos y dependencias externas:"
   ]
  },
  {
   "cell_type": "markdown",
   "metadata": {},
   "source": [
    "- files/Datos_Techo_converted.xlsx : Datos sobre encuesta para el programa de hábitat de la organización Techo México. "
   ]
  },
  {
   "cell_type": "markdown",
   "metadata": {},
   "source": [
    "<br>"
   ]
  },
  {
   "cell_type": "markdown",
   "metadata": {},
   "source": [
    "# <font color= #6B6B6B> <font size = 6> 1. Introducción </font>"
   ]
  },
  {
   "cell_type": "markdown",
   "metadata": {},
   "source": [
    "<hr style=\"border:0.02in solid gray\"> </hr>"
   ]
  },
  {
   "cell_type": "markdown",
   "metadata": {},
   "source": []
  },
  {
   "cell_type": "markdown",
   "metadata": {},
   "source": [
    "<br>"
   ]
  },
  {
   "cell_type": "markdown",
   "metadata": {},
   "source": [
    "# <font color= #6B6B6B> <font size = 6> 2. Objetivos </font>"
   ]
  },
  {
   "cell_type": "markdown",
   "metadata": {},
   "source": [
    "<hr style=\"border:0.02in solid gray\"> </hr>"
   ]
  },
  {
   "cell_type": "markdown",
   "metadata": {},
   "source": []
  },
  {
   "cell_type": "markdown",
   "metadata": {},
   "source": [
    "<br>"
   ]
  },
  {
   "cell_type": "markdown",
   "metadata": {},
   "source": [
    "# <font color= #6B6B6B> <font size = 6> 3. Datos </font>"
   ]
  },
  {
   "cell_type": "markdown",
   "metadata": {},
   "source": [
    "<hr style=\"border:0.02in solid gray\"> </hr>"
   ]
  },
  {
   "cell_type": "markdown",
   "metadata": {},
   "source": [
    "Los datos con los que se trabajará, corresponde a las **Encuestas de Caracterización de Hogares (ECHS)**, correspondientes a los años 2019 y 2020 de la ONG Techo México. Éstas encuestas se realizan para determinar si una familia es candidata o no, a recibir un apoyo del programa de viviendas. Para determinar esto, se contemplan un total de 97 variables. Con excepción del año de aplicación de la ECHS, todas las variables son de tipo discreto para proteger la información que éstas contienen."
   ]
  },
  {
   "cell_type": "markdown",
   "metadata": {},
   "source": [
    "# <font color= #6B6B6B> <font size = 6> 4. Procesos </font>"
   ]
  },
  {
   "cell_type": "markdown",
   "metadata": {},
   "source": [
    "<hr style=\"border:0.02in solid gray\"> </hr>"
   ]
  },
  {
   "cell_type": "markdown",
   "metadata": {},
   "source": [
    "## Lectura de datos"
   ]
  },
  {
   "cell_type": "code",
   "execution_count": 2,
   "metadata": {},
   "outputs": [
    {
     "name": "stdout",
     "output_type": "stream",
     "text": [
      "Existen un total de  749  valores faltantes en el Data frame \n",
      "\n",
      "Existen un total de  749 valores faltnates en la columna p74\n"
     ]
    }
   ],
   "source": [
    "import matplotlib.pyplot as plt\n",
    "from sklearn import metrics\n",
    "import numpy as np\n",
    "import data\n",
    "import functions\n",
    "import visualizations\n",
    "\n",
    "\n",
    "file_path='files/Datos_Techo_converted.xlsx'\n",
    "\n",
    "data_techo = data.lectura_datos(file_path, 'Datos Techo', 'p1')\n",
    "\n",
    "missing_tot = (data_techo.isnull().sum()).sum()\n",
    "missing = (data_techo.isnull().sum())['p74']\n",
    "\n",
    "print('Existen un total de ', missing_tot, ' valores faltantes en el Data frame \\n')\n",
    "print('Existen un total de ', missing, 'valores faltnates en la columna p74')"
   ]
  },
  {
   "cell_type": "markdown",
   "metadata": {},
   "source": [
    "## Visualización de p74 (datos no faltantes)"
   ]
  },
  {
   "cell_type": "code",
   "execution_count": 2,
   "metadata": {},
   "outputs": [
    {
     "data": {
      "image/png": "[encoded data removed]",
      "text/plain": [
       "<Figure size 576x288 with 1 Axes>"
      ]
     },
     "metadata": {
      "needs_background": "light"
     },
     "output_type": "display_data"
    }
   ],
   "source": [
    "#Separacion de datos\n",
    "ne_data = data_techo[data_techo['p74'].notnull()]['p74'].to_numpy()\n",
    "\n",
    "#histograma\n",
    "visualizations.plot_histogram_discrete(ne_data, 'p74', 'Frecuencia',\n",
    "                                       'Histograma de datos no faltantes en p74')"
   ]
  },
  {
   "cell_type": "markdown",
   "metadata": {},
   "source": [
    "## Datos faltantes"
   ]
  },
  {
   "cell_type": "markdown",
   "metadata": {},
   "source": [
    "Dado que existe una cantidad significativa de datos faltantes en la columna p74, tenemos que proponer una estrategia para llenar estos datos, por otro lado por el tipo de datos que tenemos, es decir socio-demográficos, no podemos sencillamente llenar con un promedio o una mediana, ya que esto sería una suposición muy grande.\n",
    "\n",
    "\n",
    "Por lo tanto, tras analizar el conjunto de datos, se propone llenar estos datos faltantes particionando los datos a partir de dos criterios distintos. El primer criterio será la columna p3 y la columna p27.\n",
    "\n",
    "\n",
    "A partir de ésto el DataFrame se dividará en dos, los 749 registros que tienen faltantes en la columna p74 y los que sí tienen registros. Una vez realizada ésta división, se volverán a dividir los datos de acuerdo a los valores únicos de la columna p3 y éstos últimos se dividirán una segunda vez de acuerdo a la columna p27.\n",
    "\n",
    "\n",
    "Una vez realizadas estas particiones, no tomamos en cuenta aquellos que no tengan datos para ser llenados, por ejemplo si para el valor 4 de la columna p3 y el valor 3 de la columna p27 no existen datos, entonces eliminaremos las columnas que tengan datos faltantes en la p74 que concidan con este criterio, dado que no tenemos suficiente información para sustentar el llenado de ésta infofrmación.\n",
    "\n",
    "\n",
    "Ahora, para los criterios con los que sí contamos con información suficiente, vamos a hacer uso de la técnica de aceptación y rechazo para generar una cantidad de datos que distribuyan como los datos con los que sí contamos. La función que usaremos para el método de aceptación y rechazo la generaremos a partir del Kernel Density Estimation de la librería de statsmodels.\n",
    "\n",
    "### Método de aceptación y rechazo\n",
    "\n",
    "El método de la trasnformada inversa, permite generar datos que distribuyan como una función $f(x)$. Para poder aplicar este método $f(x)$ debe de ser una función acotada y con un dominio finito $a\\leq x \\leq b$\n",
    "\n",
    "De acuerdo a ésta función $f(x)$ el método propone los siguientes pasos. Asuma que podemos encontrar una función $t(x)$ tal que $$t(x)\\geq f(x), \\quad \\forall x$$ Para este caso utilizamos $t(x)$ como el valor màximo de $f(x)$.\n",
    "\n",
    "La función $t(x)\\geq 0$ no es una PDF debido a $$\\int_{-\\infty}^{\\infty}t(x)dx\\geq \\int_{-\\infty}^{\\infty}f(x)dx =1$$ Hacemos $T(x) = c$ $$c=\\int_{-\\infty}^{\\infty}t(x)\\geq 1$$ Definamos la función $g(x)=t(x)/c \\rightarrow g(x)$ es una densidad.\n",
    "\n",
    "Resultando entonces $$\\frac{f(x)}{g(x)}\\leq c,\\quad \\forall x$$ El siguiente algoritmo genera una variable aleatoria $X$, distribuida de acuerdo a la densidad $f(x)$\n",
    "1.\tGenerar $R_1$ teniendo densidad $g(x)$\n",
    "2.\tGenerar $R_2 \\rightarrow U \\sim U(0,1)$ independiente de $R_1$ del paso 1 .\n",
    "3.\tEvaluar la función de probabilidad en $R_1$.\n",
    "4.\tDeterminar si la siguiente desigualdad se cumple: $$R_2\\leq \\frac{f(R_1)}{t(R_1)}$$ Si la respuesta es afirmativa se utiliza $X=R_1$, de lo contrario es necesario pasar nuevamente al paso 1, tantas veces como sea necesario.\n",
    "De esta forma podemos generar una cantidad $n$ de números a partir de una distribución $f(x)$\n",
    "\n",
    "### Kernel Density Estimation\n",
    "\n",
    "Kernerl density estimation (KDE) es una técnica estadística no paramétrica, que nos perimite estimar la función de densidad de probabilidad de una variable. A grandes rasgos ésta técinca genera una línea suave y continua, que se ajusta a la distribución de los datos (finitos). Para hacer ésto, la técnica de KDE genera líneas a partir de los datos y se va ajustando a ellos de acuerdo a la probabilidad de ocurrencia, es decir, entre mayor presencia de datos tengamos dentro de una clase KDE, infiere que existe una mayor probabilidad de ocurrrencia de ésta clase y por lo tanto va ajustando la función de acuerdo a ésto. Una parte muy importante de KDE es el kernel, a través del parámetro bandwidth (bw), es que cambia el kernel, cuando bw es bajo, se le dará más peso a aquellos puntos que se encuentren cerca de la media, cuando bw es un valor, comienza a crecer, ésto quiere decir que se le comienza a dar más peso a los valores que se encuentran más alejados de la media.\n",
    "\n",
    "La forma en la que se calcula ésta línea o función que genera KDE, es a través de la siguiente función:\n",
    "$$ \\hat{ f}(x)= \\sum_{observaciones} K(\\frac{x- observaciones}{bandwith}) $$\n",
    "Donde K representa el kernel, el kernel hace referencia a la función de distribución que se aproxima, puede ser uniforme, guassiana, triangular, etc.\n",
    "En este caso utilizamos el método de cross validation maximum likelihood (MLCV), ésta se define de la siguiente forma (MLCV) $$MLCV(h) = n^{-1} \\sum_{i=1}^{n} \\log\\left[\\hat{f}_{h,i}(x)\\right]$$\n"
   ]
  },
  {
   "cell_type": "code",
   "execution_count": 3,
   "metadata": {},
   "outputs": [
    {
     "name": "stdout",
     "output_type": "stream",
     "text": [
      "Existen un total de  0  valores faltantes en el Data frame\n"
     ]
    }
   ],
   "source": [
    "data_techo = functions.fill_empty(data_techo, 'p74', 'p3', 'p27')\n",
    "missing_tot = (data_techo.isnull().sum()).sum()\n",
    "print('Existen un total de ', missing_tot, ' valores faltantes en el Data frame')"
   ]
  },
  {
   "cell_type": "markdown",
   "metadata": {},
   "source": [
    "## Visualizacion de p74 datos completos\n",
    "\n",
    "Una vez realizado el llenado de los datos, volvemos a graficar el histograma de la columna p74"
   ]
  },
  {
   "cell_type": "code",
   "execution_count": 4,
   "metadata": {},
   "outputs": [
    {
     "data": {
      "image/png": "[encoded data removed]",
      "text/plain": [
       "<Figure size 576x288 with 1 Axes>"
      ]
     },
     "metadata": {
      "needs_background": "light"
     },
     "output_type": "display_data"
    }
   ],
   "source": [
    "visualizations.plot_histogram_discrete(data_techo['p74'].to_numpy(), 'p74', 'Frecuencia',\n",
    "                                       'Histograma de p74')"
   ]
  },
  {
   "cell_type": "markdown",
   "metadata": {},
   "source": [
    "## Reporte de datos\n",
    "\n",
    "Una vez realizado el llenado de nuestros datos, estamos listos para crear un reporte de las variables, para hacer ésto, nos apoyamos de la librería pandas profiling, que nos permite obener un reporte detallado de cada variable, el tipo de variable, valores únicos e histogramas. Éste reporte se encuentra dentro de la carpeta bajo el nombre de **Reporte_Datos_Techo.html**"
   ]
  },
  {
   "cell_type": "code",
   "execution_count": 5,
   "metadata": {},
   "outputs": [
    {
     "data": {
      "application/vnd.jupyter.widget-view+json": {
       "model_id": "14e4867e6a824b21ac7ff6e4c3781bb7",
       "version_major": 2,
       "version_minor": 0
      },
      "text/plain": [
       "Summarize dataset:   0%|          | 0/113 [00:00<?, ?it/s]"
      ]
     },
     "metadata": {},
     "output_type": "display_data"
    },
    {
     "data": {
      "application/vnd.jupyter.widget-view+json": {
       "model_id": "65a5dea87d234695ac247c4548a2497c",
       "version_major": 2,
       "version_minor": 0
      },
      "text/plain": [
       "Generate report structure:   0%|          | 0/1 [00:00<?, ?it/s]"
      ]
     },
     "metadata": {},
     "output_type": "display_data"
    },
    {
     "data": {
      "application/vnd.jupyter.widget-view+json": {
       "model_id": "1bcb85660693405ba6bfb346eccef660",
       "version_major": 2,
       "version_minor": 0
      },
      "text/plain": [
       "Render HTML:   0%|          | 0/1 [00:00<?, ?it/s]"
      ]
     },
     "metadata": {},
     "output_type": "display_data"
    },
    {
     "data": {
      "application/vnd.jupyter.widget-view+json": {
       "model_id": "7015c4b4b00846939b4371e363ebd962",
       "version_major": 2,
       "version_minor": 0
      },
      "text/plain": [
       "Export report to file:   0%|          | 0/1 [00:00<?, ?it/s]"
      ]
     },
     "metadata": {},
     "output_type": "display_data"
    }
   ],
   "source": [
    "data.reporte_profiling(data_techo, 'Reporte_Datos_Techo.html') "
   ]
  },
  {
   "cell_type": "markdown",
   "metadata": {},
   "source": [
    "## Modelo \n",
    "\n",
    "En esta sección se realizarán todos los procedimientos necesarios para la creación de nuestro primer modelo de regresión logística, las variables que tomaremos en cuenta para hacer éste modelo son desde p13 hasta p128 (un total de 97 variables distintas), la variable objetivo será p131."
   ]
  },
  {
   "cell_type": "markdown",
   "metadata": {},
   "source": [
    "### Perparación de datos (prueba y entrenamiento)\n",
    "\n",
    "El primer paso para la construcción de nuestro modelo, es separar los datos en prueba y entrenamiento, usaremos un 80% para prueba y un 20% para entrenamiento. Un punto importante en este paso, es cuidar la proporción con la que se dividen los datos, el enfoque de éste proyecto, nos lleva a prestar especial atención a este paso. Separaremos los datos de forma que se respete la proporción de las siguientes variables:\n",
    "\n",
    "- p13\n",
    "\n",
    "\n",
    "**Explicar mas citar MLBook**\n",
    "\n",
    "Para hacer ésto nos apoyaremos de la librería sklearn, que nos permite escoger las variables sobre las cuales queremos estratificar."
   ]
  },
  {
   "cell_type": "code",
   "execution_count": 6,
   "metadata": {
    "scrolled": true
   },
   "outputs": [
    {
     "name": "stdout",
     "output_type": "stream",
     "text": [
      "(978, 97) (245, 97) (978,) (245,)\n"
     ]
    }
   ],
   "source": [
    "cols_strat = ['p13']\n",
    "\n",
    "\n",
    "\n",
    "X_train, X_test, y_train, y_test = functions.train_test_split_strat(data_techo,\n",
    "                                                                    0.20, cols_strat)\n",
    "\n",
    "features = X_train.columns.tolist()\n",
    "print(X_train.shape, X_test.shape, y_train.shape, y_test.shape)\n"
   ]
  },
  {
   "cell_type": "markdown",
   "metadata": {},
   "source": [
    "###  Estandirazción\n",
    "\n",
    "Una vez particionados los datos, estandarizamos las columnas que lo requieran, ya que esta base de datos contiene muchas variables categóricas, solo es necesario estandirzar aquellas que el tipo de variable son números reales. Las variables que estandirazeremos son:\n",
    "\n",
    "\n",
    "- p14\n",
    "- p15\n",
    "- p19\n",
    "- p20\n",
    "- p26\n",
    "- p32\n",
    "- p33\n",
    "- p34\n",
    "- p35\n",
    "- p36\n",
    "- p39\n",
    "- p40\n",
    "- p47\n",
    "- p66\n",
    "- p67\n",
    "- p74\n",
    "- p91\n",
    "- p92\n",
    "- p93\n",
    "- p99\n",
    "- p101\n",
    "- p104"
   ]
  },
  {
   "cell_type": "code",
   "execution_count": 7,
   "metadata": {},
   "outputs": [],
   "source": [
    "cols_estan = ['p14', 'p15', 'p19', 'p20', 'p26', 'p32', 'p33', 'p34', 'p35',\n",
    "              'p36', 'p39', 'p40', 'p47', 'p66', 'p67', 'p74', 'p91', 'p92', 'p93',\n",
    "              'p99', 'p101', 'p104']\n",
    "\n",
    "z_train, z_test = functions.standarizacion(X_train, X_test, cols_estan)\n",
    "\n",
    "X_train[cols_estan] = z_train\n",
    "X_test[cols_estan] = z_test"
   ]
  },
  {
   "cell_type": "markdown",
   "metadata": {},
   "source": [
    "### Agregamos bias a nuestra X de entrenamiento y de prueba"
   ]
  },
  {
   "cell_type": "code",
   "execution_count": 8,
   "metadata": {},
   "outputs": [
    {
     "name": "stdout",
     "output_type": "stream",
     "text": [
      "train  (978, 98) (978, 1)\n",
      "test  (245, 98) (245, 1)\n"
     ]
    }
   ],
   "source": [
    "X_train['bias'] = 1\n",
    "x_train = X_train[['bias'] + features].values\n",
    "y_train = y_train.values\n",
    "y_train = y_train.reshape(y_train.shape[0], 1)\n",
    "\n",
    "X_test['bias'] = 1\n",
    "x_test = X_test[['bias'] + features].values\n",
    "y_test = y_test.values\n",
    "y_test = y_test.reshape(y_test.shape[0], 1)\n",
    "\n",
    "\n",
    "print('train ', X_train.shape, y_train.shape)\n",
    "print('test ', X_test.shape, y_test.shape)"
   ]
  },
  {
   "cell_type": "markdown",
   "metadata": {},
   "source": [
    "### Aplicamos la función de gradiente descendiente con regularización \n",
    "\n",
    "Función de costo: $J(w)=-\\frac{1}{m} \\sum_{i=1}^{m} \\big( y_i\\ log(\\sigma(z_i)) + (1-y_i)\\ log(1-\\sigma(z_i)) \\big) + \\frac{\\lambda}{2m}\\sum_{j=1}^n w_j^2$\n",
    "\n",
    "Gradiente: $\\frac{\\partial J(w)}{\\partial w_j} = \\frac{1}{m} \\sum_{i=1}^{m}(\\sigma(z_i) - y_i) * x_i^j + \\frac{\\lambda}{m}w_j$\n",
    "\n",
    "En su forma vectorizada: $\\nabla J(w)=\\frac{1}{m} X^T (\\sigma(z) - y) + \\frac{\\lambda w}{m}$\n",
    "\n",
    "Sigmoide: $\\sigma(z_i) = \\frac{1}{1+e^{-z_i}}$ where $z_i=x_iw^T$\n",
    "\n",
    "Actiaulización de pesos:\n",
    "\n",
    "* $w_0 = w_0 - \\alpha \\frac{1}{m}\\sum_{i=1}^{m}(\\sigma(z_i) - y_i)$\n",
    "* $w_j = w_j - \\alpha \\frac{1}{m}\\sum_{i=1}^{m}(\\sigma(z_i) - y_i) * x_i^j + \\frac{\\lambda}{m}w_j$ para $j>0$"
   ]
  },
  {
   "cell_type": "markdown",
   "metadata": {},
   "source": [
    "### Entrenamiento del modelo\n",
    "\n",
    "**Explicación**"
   ]
  },
  {
   "cell_type": "code",
   "execution_count": 9,
   "metadata": {},
   "outputs": [
    {
     "name": "stdout",
     "output_type": "stream",
     "text": [
      "w shape (1, 98)\n",
      "train cost  0.6943762960180342\n",
      "train cost  0.5528215189433747\n",
      "[ 0.05335863  0.17358068 -0.00500594  0.11642991  0.06624708 -0.09126096\n",
      " -0.08714453 -0.13757767  0.0401938   0.04659141 -0.4116275  -0.10158146\n",
      " -0.20916025 -0.28963901  0.07519806  0.025       0.14454073 -0.1594359\n",
      "  0.16755611  0.05975421 -0.03675123  0.01815025  0.11380728  0.02733776\n",
      "  0.14631644  0.03870459 -0.09825858 -0.07078739  0.01230354 -0.02248063\n",
      "  0.01788397 -0.01004478  0.00825224 -0.19053139  0.23020243 -0.14697954\n",
      " -0.14504734 -0.07618231 -0.19051599  0.0577097  -0.05335928  0.09359515\n",
      "  0.03043847 -0.03549879  0.02551876  0.02264854  0.06046225 -0.18647265\n",
      "  0.06905541  0.19054551 -0.05013314  0.07509348 -0.10159128  0.11201398\n",
      " -0.14562082 -0.10482105 -0.01922746  0.00849843  0.16639506  0.090761\n",
      " -0.00113543 -0.15979375  0.10722958  0.01271783 -0.06459246  0.01680372\n",
      "  0.02750301  0.01783822  0.18821934 -0.25700387 -0.02337286 -0.12898955\n",
      " -0.07228484  0.03364423 -0.15924903  0.19154966  0.58000715 -0.74824514\n",
      " -0.06825031 -0.12872383 -0.11976239  0.01230595  0.21042837 -0.0915016\n",
      " -0.05796177 -0.09411279 -0.02850175  0.04828531  0.04828616  0.01692814\n",
      "  0.00603567 -0.02925941  0.02215837 -0.00481383 -0.01901571  0.05167893\n",
      "  0.09318418 -0.07598877]\n"
     ]
    }
   ],
   "source": [
    "w = np.random.normal(loc=1e-3, scale=1e-6, size=(1, x_train.shape[1]))\n",
    "lmbd = 0.05\n",
    "alpha = 0.005\n",
    "epochs = 7000\n",
    "print('w shape', w.shape)\n",
    "\n",
    "print('train cost ', functions.cost(x_train, y_train, w, lmbd))\n",
    "w, J, J_t = functions.gd(X_train, y_train, x_test, y_test, w, alpha, lmbd, epochs)\n",
    "print('train cost ', functions.cost(X_train, y_train, w, lmbd))\n",
    "w = w.reshape(-1)\n",
    "print(w)"
   ]
  },
  {
   "cell_type": "code",
   "execution_count": 10,
   "metadata": {},
   "outputs": [
    {
     "data": {
      "image/png": "[encoded data removed]",
      "text/plain": [
       "<Figure size 432x288 with 1 Axes>"
      ]
     },
     "metadata": {
      "needs_background": "light"
     },
     "output_type": "display_data"
    }
   ],
   "source": [
    "plt.plot(range(len(J)), J, label='Train cost')\n",
    "plt.plot(range(len(J_t)), J_t, label='Test cost')\n",
    "plt.xlabel('Iterations')\n",
    "plt.ylabel('Cost')\n",
    "plt.legend()\n",
    "plt.show()"
   ]
  },
  {
   "cell_type": "markdown",
   "metadata": {},
   "source": [
    "### Implementamos la predicción con el modelo\n",
    "\n",
    "\n",
    "En la celda siguiente, podemos observar cómo con la función h que aplica la signmoide (el clasificador utilizado) sobre nuestros datos de prueba. Ésta función nos va a regresar la probabilidad asociada a cada uno de los datos de prueba de obtener un 1 en la variable objetivo. Con esta probabilidad, establecemos un límite, es decir a partir de qué probabilidad asignaremos 1 y a partir de cuál 0. En este caso, establecemos un límite de $0.50$. Es decir que si p es mayor a $0.50$ vamos a asignar un 1, si es menor o igual a $0.50$ vamos a asignar un 0. A partir de ésto, calculamos nuestra y_hat que es la y estimada y mostramos una breve comparación de los primeros 20 resultados. La primera fila corresponde a nuestros datos reales y la segunda corresponde a los valores que usamos para probar nuestro modelo.\n",
    "\n"
   ]
  },
  {
   "cell_type": "code",
   "execution_count": 21,
   "metadata": {},
   "outputs": [
    {
     "name": "stdout",
     "output_type": "stream",
     "text": [
      "[0 1 0 1 0 0 1 1 1 1 1 1 1 1 0 0 0 0 1 0]\n",
      "[1 0 0 1 0 1 0 0 0 0 1 1 0 0 1 1 1 1 1 0]\n"
     ]
    }
   ],
   "source": [
    "p = functions.h(x_test, w)  # get probabilities\n",
    "y_hat = functions.predict(p, 0.5)\n",
    "print(y_test[:20].squeeze())\n",
    "print(y_hat[:20])"
   ]
  },
  {
   "cell_type": "markdown",
   "metadata": {},
   "source": [
    "### Medidas de desempeño\n",
    "\n",
    "Una vez hecha la predicción con nuestro modelo necesitamos saber qué tan bien o mal se desempeña el mismo, para ésto vamos a utilizar dos medidas de desempeño:\n",
    "\n",
    "- sensibilidad: ésta medida nos indica la proporción de 1, que son correctamente indentificados\n",
    "- especifidad: ésta medida nos indica la proporción de 0, que son correctamente identificados\n",
    "\n",
    "\n",
    "Para calcular éstas medidas, necesitamos conocer la cantidad de verdaderos positivos (TP), verdaderos negativos (TN), falsos positivos (FP) y falsos negativos (FN). Una vez calculados éstos valores, aplicamos la fórmula para sensibilidad ($s_e$) y especifidad ($s_p$).\n",
    "\n",
    "$$s_e = \\frac{TP}{TP + FN}$$\n",
    "\n",
    "$$s_p = \\frac{TN}{TN + FP}$$"
   ]
  },
  {
   "cell_type": "code",
   "execution_count": 22,
   "metadata": {},
   "outputs": [
    {
     "name": "stdout",
     "output_type": "stream",
     "text": [
      "sensitivity 0.5350877192982456\n",
      "specificity 0.5190839694656488\n"
     ]
    }
   ],
   "source": [
    "V = functions.get_values(y_test.reshape(-1), y_hat)\n",
    "print('sensitivity', functions.sensitivity(V))\n",
    "print('specificity', functions.specificity(V))"
   ]
  },
  {
   "cell_type": "markdown",
   "metadata": {},
   "source": [
    "### Curva de ROC"
   ]
  },
  {
   "cell_type": "code",
   "execution_count": 23,
   "metadata": {},
   "outputs": [
    {
     "data": {
      "image/png": "[encoded data removed]",
      "text/plain": [
       "<Figure size 432x288 with 1 Axes>"
      ]
     },
     "metadata": {
      "needs_background": "light"
     },
     "output_type": "display_data"
    }
   ],
   "source": [
    "Se, Sp = functions.ROC(y_train, functions.h(x_train, w))\n",
    "plt.plot(1 - Sp, Se, '-')\n",
    "\n",
    "Se, Sp = functions.ROC(y_test, functions.h(x_test, w))\n",
    "plt.plot(1 - Sp, Se, '-')\n",
    "\n",
    "plt.xlabel('1 - Specificity')\n",
    "plt.ylabel('Sensitivity')\n",
    "plt.legend(['Train', 'Test'])\n",
    "plt.title('Receiver Operating Characteristic')\n",
    "plt.show()\n"
   ]
  },
  {
   "cell_type": "markdown",
   "metadata": {},
   "source": [
    "### Area bajo la curva de ROC"
   ]
  },
  {
   "cell_type": "code",
   "execution_count": 24,
   "metadata": {},
   "outputs": [
    {
     "name": "stdout",
     "output_type": "stream",
     "text": [
      "Train AUC:  0.5071884447430299\n",
      "Test AUC:  0.5302665059595554\n"
     ]
    }
   ],
   "source": [
    "print('Train AUC: ', metrics.roc_auc_score(y_train, functions.h(x_train, w)))\n",
    "print('Test AUC: ', metrics.roc_auc_score(y_test, functions.h(x_test, w)))"
   ]
  },
  {
   "cell_type": "markdown",
   "metadata": {},
   "source": [
    "# <font color= #6B6B6B> <font size = 6> 5. Conclusiones </font>"
   ]
  },
  {
   "cell_type": "markdown",
   "metadata": {},
   "source": [
    "<hr style=\"border:0.02in solid gray\"> </hr>"
   ]
  },
  {
   "cell_type": "markdown",
   "metadata": {},
   "source": []
  },
  {
   "cell_type": "code",
   "execution_count": 12,
   "metadata": {},
   "outputs": [],
   "source": [
    "# en esta seccion es opcional incluir algun codigo para mostrar\n",
    "# visualmente algun concepto o hallazgo relevante como conclusion"
   ]
  },
  {
   "cell_type": "code",
   "execution_count": 13,
   "metadata": {},
   "outputs": [],
   "source": [
    "# En esta sección es opcional incluir código para mostrar/visualizar\n",
    "# los datos con los que se trabajó en el laboratorio"
   ]
  },
  {
   "cell_type": "markdown",
   "metadata": {},
   "source": [
    "<br>"
   ]
  },
  {
   "cell_type": "markdown",
   "metadata": {},
   "source": [
    "# <font color= red> <font size = 6> 5. Pruebas (no incluir) </font>"
   ]
  },
  {
   "cell_type": "markdown",
   "metadata": {},
   "source": [
    "<hr style=\"border:0.02in solid red\"> </hr>"
   ]
  },
  {
   "cell_type": "markdown",
   "metadata": {},
   "source": [
    "Las siguientes son una serie de pruebas para verificar que todo este funcionando bien, instaladas/cargadas las librerias, importar otros scripts, imprimir graficas de plotly."
   ]
  },
  {
   "cell_type": "code",
   "execution_count": 14,
   "metadata": {},
   "outputs": [],
   "source": [
    "import pandas as pd\n",
    "import data as dt"
   ]
  },
  {
   "cell_type": "code",
   "execution_count": 15,
   "metadata": {},
   "outputs": [
    {
     "ename": "AttributeError",
     "evalue": "module 'data' has no attribute 'dict_test'",
     "output_type": "error",
     "traceback": [
      "\u001b[1;31m---------------------------------------------------------------------------\u001b[0m",
      "\u001b[1;31mAttributeError\u001b[0m                            Traceback (most recent call last)",
      "\u001b[1;32m<ipython-input-15-4c5cddcedf61>\u001b[0m in \u001b[0;36m<module>\u001b[1;34m\u001b[0m\n\u001b[0;32m      1\u001b[0m \u001b[1;31m# -- TEST 1 :\u001b[0m\u001b[1;33m\u001b[0m\u001b[1;33m\u001b[0m\u001b[1;33m\u001b[0m\u001b[0m\n\u001b[0;32m      2\u001b[0m \u001b[1;31m# verify that the script is being read\u001b[0m\u001b[1;33m\u001b[0m\u001b[1;33m\u001b[0m\u001b[1;33m\u001b[0m\u001b[0m\n\u001b[1;32m----> 3\u001b[1;33m \u001b[0mprint\u001b[0m\u001b[1;33m(\u001b[0m\u001b[0mdt\u001b[0m\u001b[1;33m.\u001b[0m\u001b[0mdict_test\u001b[0m\u001b[1;33m)\u001b[0m\u001b[1;33m\u001b[0m\u001b[1;33m\u001b[0m\u001b[0m\n\u001b[0m",
      "\u001b[1;31mAttributeError\u001b[0m: module 'data' has no attribute 'dict_test'"
     ]
    }
   ],
   "source": [
    "# -- TEST 1 : \n",
    "# verify that the script is being read\n",
    "print(dt.dict_test)"
   ]
  },
  {
   "cell_type": "code",
   "execution_count": null,
   "metadata": {},
   "outputs": [],
   "source": [
    "# -- TEST 2 :\n",
    "# verify that installed pandas module works correctly\n",
    "df_dict_test = pd.DataFrame(dt.dict_test, index=[0,1])\n",
    "print(df_dict_test)"
   ]
  },
  {
   "cell_type": "code",
   "execution_count": null,
   "metadata": {},
   "outputs": [],
   "source": [
    "# -- TEST 3 :\n",
    "# verify you can use plotly and visualize plots in jupyter notebook\n",
    "\n",
    "import chart_studio.plotly as py  # various tools (jupyter offline print)\n",
    "import plotly.graph_objects as go # plotting engine \n",
    "\n",
    "# example data\n",
    "df = pd.DataFrame({'column_a': [1, 2, 3, 4, 5], 'column_b': [1, 2, 3, 4, 5]})\n",
    "# basic plotly plot\n",
    "data = [go.Bar(x=df['column_a'], y=df['column_b'])]\n",
    "# instruction to view it inside jupyter\n",
    "py.iplot(data, filename='jupyter-basic_bar')\n",
    "# (alternatively) instruction to view it in web app of plotly\n",
    "# py.plot(data)"
   ]
  },
  {
   "cell_type": "code",
   "execution_count": null,
   "metadata": {},
   "outputs": [],
   "source": [
    "# -- TEST 4 :\n",
    "# verify you can use plotly and visualize plots in web browser locally\n",
    "\n",
    "import plotly.io as pio            # to define input-output of plots\n",
    "pio.renderers.default = \"browser\"  # to render the plot locally in your default web browser\n",
    "\n",
    "# basic plotly plot\n",
    "plot_data = go.Figure(go.Bar(x=df['column_a'], y=df['column_b']))\n",
    "# instruction to view it in specified render (in this case browser)\n",
    "plot_data.show()"
   ]
  }
 ],
 "metadata": {
  "kernelspec": {
   "display_name": "Python 3",
   "language": "python",
   "name": "python3"
  },
  "language_info": {
   "codemirror_mode": {
    "name": "ipython",
    "version": 3
   },
   "file_extension": ".py",
   "mimetype": "text/x-python",
   "name": "python",
   "nbconvert_exporter": "python",
   "pygments_lexer": "ipython3",
   "version": "3.8.5"
  }
 },
 "nbformat": 4,
 "nbformat_minor": 4
}
