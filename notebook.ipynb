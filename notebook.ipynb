{
 "cells": [
  {
   "cell_type": "markdown",
   "metadata": {},
   "source": [
    "<img src=\"http://oci02.img.iteso.mx/identidad_de_instancia_2018/ITESO/Logos%20ITESO/Logo-ITESO-Principal.jpg\">"
   ]
  },
  {
   "cell_type": "markdown",
   "metadata": {},
   "source": [
    "<center><font color=#555555><font size=6> Ingeniería Financiera </font> <br> <br>\n",
    "\n",
    "<center><font color=#555555><font size=5> PAP </font> <br> <br> <br>\n",
    "\n",
    "<center><font color=#555555><font size=5> I.F. Renatta García Sánchez </font> <br> <br>\n",
    "   \n",
    "<center> <font color= #555555> <font size = 4> Mayo 2020 </a> | <font color= #555555> <font size = 4> Repositorio: <a href='https://github.com/renattaGS/PAP-ML-ETICO'>Link</a></font>"
   ]
  },
  {
   "cell_type": "markdown",
   "metadata": {},
   "source": [
    "<br>"
   ]
  },
  {
   "cell_type": "markdown",
   "metadata": {},
   "source": [
    "---"
   ]
  },
  {
   "cell_type": "markdown",
   "metadata": {},
   "source": [
    "<br>"
   ]
  },
  {
   "cell_type": "markdown",
   "metadata": {},
   "source": [
    "<br>"
   ]
  },
  {
   "cell_type": "markdown",
   "metadata": {},
   "source": [
    "<center> <font color= #555555> <font size = 6> Machine Learning ético </font> <br> <br> <font color= #555555>  </font>"
   ]
  },
  {
   "cell_type": "markdown",
   "metadata": {},
   "source": [
    "# <font color= #555555> <font size = 5> Abstract </font>"
   ]
  },
  {
   "cell_type": "markdown",
   "metadata": {},
   "source": [
    "<font color= #6B6B6B> <font size = 2> Este documento fue elaborado por Renatta García Sánchez, como trabajo para el proyecto de aplicación profesional: OPTIMIZACIÓN DE PROGRAMAS DE INVERSIÓN EN INTERMEDIARIOS FINANCIEROS, la cual es parte del curriculum de la licenciatura en Ingeniería Financiera, ofertada por la universidad **ITESO**. En el presente trabajo se plantea la respuesta a la siguiente pregunta: </font> "
   ]
  },
  {
   "cell_type": "markdown",
   "metadata": {},
   "source": [
    "<br>"
   ]
  },
  {
   "cell_type": "markdown",
   "metadata": {},
   "source": [
    "# <font color= #6B6B6B> <font size = 6> 0. Librerías y Dependencias </font>"
   ]
  },
  {
   "cell_type": "markdown",
   "metadata": {},
   "source": [
    "<hr style=\"border:0.02in solid gray\"> </hr>"
   ]
  },
  {
   "cell_type": "markdown",
   "metadata": {},
   "source": [
    "# <font color= #6B6B6B> <font size = 5> 0.1 Librerías </font> <font color= #555555>"
   ]
  },
  {
   "cell_type": "markdown",
   "metadata": {},
   "source": [
    "Para correr este notebook es necesario tener instaladas y/o en el archivo _requirements.txt_ las siguientes librerías :"
   ]
  },
  {
   "cell_type": "markdown",
   "metadata": {},
   "source": [
    "- pandas>=1.1.1 \n",
    "- pandas-profiling>=2.11.0\n",
    "- jupyter>=1.0.0\n",
    "- numpy>= 1.19.1\n",
    "- statsmodels>=0.11.1\n",
    "- openpyxl>=3.0.5\n",
    "- matplotlib>=3.3.1\n",
    "- scikit-learn>=0.23.2\n"
   ]
  },
  {
   "cell_type": "markdown",
   "metadata": {},
   "source": [
    "# <font color= #6B6B6B> <font size = 5> 0.2 Dependencias </font> <font color= #555555>"
   ]
  },
  {
   "cell_type": "markdown",
   "metadata": {},
   "source": [
    "Para correr este notebook es necesario contar con los siguientes archivos y dependencias externas:"
   ]
  },
  {
   "cell_type": "markdown",
   "metadata": {},
   "source": [
    "- files/Datos_Techo_converted.xlsx : Datos sobre encuesta para el programa de hábitat de la organización Techo México. "
   ]
  },
  {
   "cell_type": "markdown",
   "metadata": {},
   "source": [
    "<br>"
   ]
  },
  {
   "cell_type": "markdown",
   "metadata": {},
   "source": [
    "# <font color= #6B6B6B> <font size = 6> 1. Introducción </font>"
   ]
  },
  {
   "cell_type": "markdown",
   "metadata": {},
   "source": [
    "<hr style=\"border:0.02in solid gray\"> </hr>"
   ]
  },
  {
   "cell_type": "markdown",
   "metadata": {},
   "source": []
  },
  {
   "cell_type": "markdown",
   "metadata": {},
   "source": [
    "<br>"
   ]
  },
  {
   "cell_type": "markdown",
   "metadata": {},
   "source": [
    "# <font color= #6B6B6B> <font size = 6> 2. Objetivos </font>"
   ]
  },
  {
   "cell_type": "markdown",
   "metadata": {},
   "source": [
    "<hr style=\"border:0.02in solid gray\"> </hr>"
   ]
  },
  {
   "cell_type": "markdown",
   "metadata": {},
   "source": []
  },
  {
   "cell_type": "markdown",
   "metadata": {},
   "source": [
    "<br>"
   ]
  },
  {
   "cell_type": "markdown",
   "metadata": {},
   "source": [
    "# <font color= #6B6B6B> <font size = 6> 3. Datos </font>"
   ]
  },
  {
   "cell_type": "markdown",
   "metadata": {},
   "source": [
    "<hr style=\"border:0.02in solid gray\"> </hr>"
   ]
  },
  {
   "cell_type": "markdown",
   "metadata": {},
   "source": [
    "Los datos con los que se trabajará corresponde las **Encuestas de Caracterización de Hogares (ECHS)** correspondientes a los años 2019 y 2020 de la ONG Techo México. Estas encuestas se realizan para determinar si una familia es candidata o no a recibir un apoyo del programa de viviendas. Para determinar esto, se contemplan un total de 97 variables. Con excepción del año de aplicación de la ECHS, todas las variables son de tipo discreto para proteger la información que estas contienen. "
   ]
  },
  {
   "cell_type": "markdown",
   "metadata": {},
   "source": [
    "# <font color= #6B6B6B> <font size = 6> 4. Procesos </font>"
   ]
  },
  {
   "cell_type": "markdown",
   "metadata": {},
   "source": [
    "<hr style=\"border:0.02in solid gray\"> </hr>"
   ]
  },
  {
   "cell_type": "markdown",
   "metadata": {},
   "source": [
    "## Lectura de datos"
   ]
  },
  {
   "cell_type": "code",
   "execution_count": 1,
   "metadata": {},
   "outputs": [
    {
     "name": "stdout",
     "output_type": "stream",
     "text": [
      "Existen un total de  749  valores faltantes en el Data frame \n",
      "\n",
      "Existen un total de  749 valores faltnates en la columna p74\n"
     ]
    }
   ],
   "source": [
    "import data\n",
    "import functions\n",
    "import visualizations\n",
    "\n",
    "file_path='files/Datos_Techo_converted.xlsx'\n",
    "\n",
    "data_techo = data.lectura_datos(file_path, 'Datos Techo', 'p1')\n",
    "\n",
    "missing_tot = (data_techo.isnull().sum()).sum()\n",
    "missing = (data_techo.isnull().sum())['p74']\n",
    "\n",
    "print('Existen un total de ', missing_tot, ' valores faltantes en el Data frame \\n')\n",
    "print('Existen un total de ', missing, 'valores faltnates en la columna p74')"
   ]
  },
  {
   "cell_type": "markdown",
   "metadata": {},
   "source": [
    "## Visualización de p74 (datos no faltantes)"
   ]
  },
  {
   "cell_type": "code",
   "execution_count": 2,
   "metadata": {},
   "outputs": [
    {
     "data": {
      "image/png": "[encoded data removed]",
      "text/plain": [
       "<Figure size 576x288 with 1 Axes>"
      ]
     },
     "metadata": {
      "needs_background": "light"
     },
     "output_type": "display_data"
    }
   ],
   "source": [
    "#Separacion de datos\n",
    "ne_data = data_techo[data_techo['p74'].notnull()]['p74'].to_numpy()\n",
    "\n",
    "#histograma\n",
    "visualizations.plot_histogram_discrete(ne_data, 'p74', 'Frecuencia',\n",
    "                                       'Histograma de datos no faltantes en p74')\n",
    "\n"
   ]
  },
  {
   "cell_type": "markdown",
   "metadata": {},
   "source": [
    "## Datos faltantes"
   ]
  },
  {
   "cell_type": "markdown",
   "metadata": {},
   "source": [
    "Dado que existe una cantidad significata de datos faltantes en la columna **p74**, tenemos que proponer una estrategia para llenar estos datos, por otro lado por el tipo de datos que tenemos, es decir socio-demográficos, no podemos sencillamente llenar con un propmedio o una mediana, ya que esto sería una suposición muy grande. \n",
    "\n",
    "Por lo tanto, tras analizar el conjunto de datos, se propone llenar estos datos faltantes particionando los datos a partir de dos criterios distintos. El primer criterio será la columna **p3** y la columna **p27**. \n",
    "\n",
    "A partir de esto el DataFrame se dividará en dos, los 749 registros que tienen faltantes en la columna **p74** y los que sí tienen registros. Una vez realizada esta división, se volverán a dividir los datos de acuerdo a los valores únicos de la columna **p3** y estos últimos se dividirán una segunda vez de acuerdo a la columna **p27**. \n",
    "\n",
    "Una vez realizadas estas particiones, no tomamos en cuenta aquellos que no tengan datos para ser llenados, por ejemplo si para el valor 4 de la columna **p3** y el valor 3 de la columna **p27** no existen datos, entonces eliminaremos las columnas que tengan datos faltantes en la **p74** que concidan con este criterio, dado que no tenemos suficiente información para sustentar el llenado de esta infofrmación. \n",
    "\n",
    "Ahora, para los criterios con los que si contamos con información suficiente vamos a hacer uso de la técnica de aceptación y rechazo para generar n cantidad de datos que distribuyan como los datos con los que si contamos. La función que usaremos para el método de aceptación y rechazo la generaremos a partir del Kernel Density Estimation de la librería de statsmodels. \n",
    "\n",
    "### Método de aceptación y rechazo \n",
    "\n",
    "El método de la trasnformada inversa permite generar datos que distribuyan como una función $f(x)$. Para poder aplicar este método $f(x)$ debe de ser una función acotada y con un dominio finito $a\\leq x \\leq b$\n",
    "\n",
    "De acuerdo a esta función $f(x)$ el método propone los siguientes pasos. Asuma que podemos encontrar una función $t(x)$ tal que\n",
    "$$t(x)\\geq f(x), \\quad \\forall x$$ Para este caso utilizamos $t(x)$ como el valor màximo de $f(x)$. \n",
    "\n",
    "La función $t(x)\\geq 0$  no es una PDF debido a \n",
    "$$\\int_{-\\infty}^{\\infty}t(x)dx\\geq \\int_{-\\infty}^{\\infty}f(x)dx =1$$\n",
    "Hacemos $T(x) = c$\n",
    "$$c=\\int_{-\\infty}^{\\infty}t(x)\\geq 1$$\n",
    "Definamos la función $g(x)=t(x)/c \\rightarrow g(x)$ **es una densidad**. Resultando entonces \n",
    "$$\\frac{f(x)}{g(x)}\\leq c,\\quad \\forall x$$\n",
    "El siguiente algoritmo genera una variable aleatoria $X$, distribuida de acuerdo a la densidad $f(x)$\n",
    "   1. Generar $R_1$ teniendo densidad $g(x)$ \n",
    "   2. Generar $R_2 \\rightarrow U \\sim U(0,1)$ independiente de $R_1$ del paso 1 .\n",
    "   3. Evaluar la función de probabilidad en $R_1$.\n",
    "   4. Determinar si la siguiente desigualdad se cumple: $$R_2\\leq \\frac{f(R_1)}{t(R_1)}$$\n",
    "   Si la respuesta es afirmativa se utiliza $X=R_1$, de lo contrario es necesario pasar nuevamente al paso 1, tantas veces como sea necesario.\n",
    "   \n",
    "De esta forma podemos generar una cantidad $n$ de números a partir de una distribución $f(x)$\n",
    "\n",
    "### Kernel Density Estimation\n",
    "\n",
    "Kernerl density estimation (KDE) es una técnica estadística no paramétrica que nos perimite estimar la función de densidad de probabilidad de una variable. A grandes rasgos esta técinca genera una lìnea suave y continua que se ajusta a distribución de los datos (finitos). Para hacer esto la técnica de KDE genera líneas a partir de los datos y se va ajustando a ellos de acuerdo a la probabilidad de ocurrencia, es decir entre mayor presencia de datos tengamos dentro de una clase KDE infiere que existe una mayor probabilidad de ocurrrencia de esta clase y por lo tanto va ajustando la función de acuerdo a esto. Una parte muy importante de KDE es el kernel, a través del parámetro **bandwidth (bw)** es que cambia el kernel, cuando bw es bajo,  se le dará más peso a aquellos puntos que se encuentren cerca de la media, cuando bw es un valor comienza a crecer esto quiere decir que se le comienza a dar más peso a los valores que se encuentran más alejados de la media.\n",
    "\n",
    "La forma en la que se calcula esta línea o función que genera KDE es a través de la siguiente fución:\n",
    "\n",
    "\n",
    "$$\n",
    "\\hat{ f}(x)= \\sum_{observaciones} K(\\frac{x- observaciones}{bandwith})\n",
    "$$\n",
    "\n",
    "Donde K representa el kernel, el kernel hace referencia a la función de distribución que se aproxima, puede ser uniforme, guassiana, triangular, etc. \n",
    "\n",
    "En este caso utilizamos el método de cross validation maximum likelihood (MLCV), esta se define de la siguiente forma (MLCV) $$MLCV(h) = n^{-1} \\sum_{i=1}^{n} \\log\\left[\\hat{f}_{h,i}(x)\\right]$$ "
   ]
  },
  {
   "cell_type": "code",
   "execution_count": 3,
   "metadata": {},
   "outputs": [
    {
     "name": "stdout",
     "output_type": "stream",
     "text": [
      "Existen un total de  0  valores faltantes en el Data frame\n"
     ]
    }
   ],
   "source": [
    "data_techo = functions.fill_empty(data_techo, 'p74', 'p3', 'p27')\n",
    "missing_tot = (data_techo.isnull().sum()).sum()\n",
    "print('Existen un total de ', missing_tot, ' valores faltantes en el Data frame')"
   ]
  },
  {
   "cell_type": "markdown",
   "metadata": {},
   "source": [
    "## Visualizacion de p74 datos completos\n",
    "\n",
    "Una vez realizado el llenado de los datos, volvemos a graficar el histograma de la columna p74"
   ]
  },
  {
   "cell_type": "code",
   "execution_count": 4,
   "metadata": {},
   "outputs": [
    {
     "data": {
      "image/png": "[encoded data removed]",
      "text/plain": [
       "<Figure size 576x288 with 1 Axes>"
      ]
     },
     "metadata": {
      "needs_background": "light"
     },
     "output_type": "display_data"
    }
   ],
   "source": [
    "visualizations.plot_histogram_discrete(data_techo['p74'].to_numpy(), 'p74', 'Frecuencia',\n",
    "                                       'Histograma de p74')"
   ]
  },
  {
   "cell_type": "markdown",
   "metadata": {},
   "source": [
    "## Reporte de datos\n",
    "\n",
    "Una vez realizado el llenado de nuestros datos, estamos listos para crear un reporte de las variables, para hacer esto nos apoyamos de la librería pandas profiling, que nos permite obener un reporte detallado de cada variable, el tipo de variable, valores únicos, e histogramas. Este reporte se encuentra dentro de la carpeta bajo el nombre de **Reporte_Datos_Techo.html**"
   ]
  },
  {
   "cell_type": "code",
   "execution_count": 5,
   "metadata": {},
   "outputs": [
    {
     "data": {
      "application/vnd.jupyter.widget-view+json": {
       "model_id": "84307325a1b740a9a7d03f7b3ca457a6",
       "version_major": 2,
       "version_minor": 0
      },
      "text/plain": [
       "Summarize dataset:   0%|          | 0/113 [00:00<?, ?it/s]"
      ]
     },
     "metadata": {},
     "output_type": "display_data"
    },
    {
     "data": {
      "application/vnd.jupyter.widget-view+json": {
       "model_id": "6acaa3a6212640f683909eb26983366f",
       "version_major": 2,
       "version_minor": 0
      },
      "text/plain": [
       "Generate report structure:   0%|          | 0/1 [00:00<?, ?it/s]"
      ]
     },
     "metadata": {},
     "output_type": "display_data"
    },
    {
     "data": {
      "application/vnd.jupyter.widget-view+json": {
       "model_id": "2863c3b055a14262b42d2f2398af527a",
       "version_major": 2,
       "version_minor": 0
      },
      "text/plain": [
       "Render HTML:   0%|          | 0/1 [00:00<?, ?it/s]"
      ]
     },
     "metadata": {},
     "output_type": "display_data"
    },
    {
     "data": {
      "application/vnd.jupyter.widget-view+json": {
       "model_id": "23f41cd9e3554dd3a0d53c810d8f801a",
       "version_major": 2,
       "version_minor": 0
      },
      "text/plain": [
       "Export report to file:   0%|          | 0/1 [00:00<?, ?it/s]"
      ]
     },
     "metadata": {},
     "output_type": "display_data"
    }
   ],
   "source": [
    "data.reporte_profiling(data_techo, 'Reporte_Datos_Techo.html') "
   ]
  },
  {
   "cell_type": "markdown",
   "metadata": {},
   "source": [
    "## Modelo \n",
    "\n",
    "En esta sección se realizarán todos los procedimientos necesarios para la careación de nuestro primer modelo de regresión logística, las variables que tomaremos en cuenta para hacer este modelo son desde **p13** hasta **p128** (un total de 97 variables distintas), la variable objetivo será **p131**. "
   ]
  },
  {
   "cell_type": "markdown",
   "metadata": {},
   "source": [
    "### Perparación de datos (prueba y entrenamiento)\n",
    "\n",
    "El primer paso para la construcción de nuestro modelo es separar los datos en prueba y entrenamiento, usaremos un 80% para prueba y un 20% para entrenamiento. Un punto importante en este paso es cuidar la proporción con la que si dividen los datos, el enfoque de este proyecto nos lleva a prestar especial atención a este paso. Separaremos los datos de forma que se respete la proporción de las siguientes variables: \n",
    "\n",
    "- p13\n",
    "\n",
    "**Explicar mas citar MLBook**\n",
    "\n",
    "Para hacer esto nos apoyaremos de la librería sklearn que nos permite escoger las variables sobre las cuales queremos estratificar."
   ]
  },
  {
   "cell_type": "code",
   "execution_count": 9,
   "metadata": {
    "scrolled": true
   },
   "outputs": [
    {
     "data": {
      "text/plain": [
       "(978, 245)"
      ]
     },
     "execution_count": 9,
     "metadata": {},
     "output_type": "execute_result"
    }
   ],
   "source": [
    "cols_strat = ['p13']\n",
    "\n",
    "\n",
    "\n",
    "X_train, X_test, y_train, y_test = functions.train_test_split_strat(data_techo,\n",
    "                                                                    0.20, cols_strat)\n"
   ]
  },
  {
   "cell_type": "markdown",
   "metadata": {},
   "source": [
    "# <font color= #6B6B6B> <font size = 6> 5. Conclusiones </font>"
   ]
  },
  {
   "cell_type": "markdown",
   "metadata": {},
   "source": [
    "<hr style=\"border:0.02in solid gray\"> </hr>"
   ]
  },
  {
   "cell_type": "markdown",
   "metadata": {},
   "source": []
  },
  {
   "cell_type": "code",
   "execution_count": 2,
   "metadata": {},
   "outputs": [],
   "source": [
    "# en esta seccion es opcional incluir algun codigo para mostrar\n",
    "# visualmente algun concepto o hallazgo relevante como conclusion"
   ]
  },
  {
   "cell_type": "code",
   "execution_count": 3,
   "metadata": {},
   "outputs": [],
   "source": [
    "# En esta sección es opcional incluir código para mostrar/visualizar\n",
    "# los datos con los que se trabajó en el laboratorio"
   ]
  },
  {
   "cell_type": "markdown",
   "metadata": {},
   "source": [
    "<br>"
   ]
  },
  {
   "cell_type": "markdown",
   "metadata": {},
   "source": [
    "# <font color= red> <font size = 6> 5. Pruebas (no incluir) </font>"
   ]
  },
  {
   "cell_type": "markdown",
   "metadata": {},
   "source": [
    "<hr style=\"border:0.02in solid red\"> </hr>"
   ]
  },
  {
   "cell_type": "markdown",
   "metadata": {},
   "source": [
    "Las siguientes son una serie de pruebas para verificar que todo este funcionando bien, instaladas/cargadas las librerias, importar otros scripts, imprimir graficas de plotly."
   ]
  },
  {
   "cell_type": "code",
   "execution_count": 4,
   "metadata": {},
   "outputs": [],
   "source": [
    "import pandas as pd\n",
    "import data as dt"
   ]
  },
  {
   "cell_type": "code",
   "execution_count": 5,
   "metadata": {},
   "outputs": [
    {
     "name": "stdout",
     "output_type": "stream",
     "text": [
      "{'key_a': 'a', 'key_b': 'b'}\n"
     ]
    }
   ],
   "source": [
    "# -- TEST 1 : \n",
    "# verify that the script is being read\n",
    "print(dt.dict_test)"
   ]
  },
  {
   "cell_type": "code",
   "execution_count": 6,
   "metadata": {},
   "outputs": [
    {
     "name": "stdout",
     "output_type": "stream",
     "text": [
      "  key_a key_b\n",
      "0     a     b\n",
      "1     a     b\n"
     ]
    }
   ],
   "source": [
    "# -- TEST 2 :\n",
    "# verify that installed pandas module works correctly\n",
    "df_dict_test = pd.DataFrame(dt.dict_test, index=[0,1])\n",
    "print(df_dict_test)"
   ]
  },
  {
   "cell_type": "code",
   "execution_count": 7,
   "metadata": {},
   "outputs": [
    {
     "data": {
      "text/html": [
       "\n",
       "        <iframe\n",
       "            width=\"100%\"\n",
       "            height=\"525px\"\n",
       "            src=\"https://plotly.com/~IFFranciscoME/160.embed\"\n",
       "            frameborder=\"0\"\n",
       "            allowfullscreen\n",
       "        ></iframe>\n",
       "        "
      ],
      "text/plain": [
       "<IPython.lib.display.IFrame at 0x7fc68ec2f1f0>"
      ]
     },
     "execution_count": 7,
     "metadata": {},
     "output_type": "execute_result"
    }
   ],
   "source": [
    "# -- TEST 3 :\n",
    "# verify you can use plotly and visualize plots in jupyter notebook\n",
    "\n",
    "import chart_studio.plotly as py  # various tools (jupyter offline print)\n",
    "import plotly.graph_objects as go # plotting engine \n",
    "\n",
    "# example data\n",
    "df = pd.DataFrame({'column_a': [1, 2, 3, 4, 5], 'column_b': [1, 2, 3, 4, 5]})\n",
    "# basic plotly plot\n",
    "data = [go.Bar(x=df['column_a'], y=df['column_b'])]\n",
    "# instruction to view it inside jupyter\n",
    "py.iplot(data, filename='jupyter-basic_bar')\n",
    "# (alternatively) instruction to view it in web app of plotly\n",
    "# py.plot(data)"
   ]
  },
  {
   "cell_type": "code",
   "execution_count": 8,
   "metadata": {},
   "outputs": [],
   "source": [
    "# -- TEST 4 :\n",
    "# verify you can use plotly and visualize plots in web browser locally\n",
    "\n",
    "import plotly.io as pio            # to define input-output of plots\n",
    "pio.renderers.default = \"browser\"  # to render the plot locally in your default web browser\n",
    "\n",
    "# basic plotly plot\n",
    "plot_data = go.Figure(go.Bar(x=df['column_a'], y=df['column_b']))\n",
    "# instruction to view it in specified render (in this case browser)\n",
    "plot_data.show()"
   ]
  }
 ],
 "metadata": {
  "kernelspec": {
   "display_name": "Python 3",
   "language": "python",
   "name": "python3"
  },
  "language_info": {
   "codemirror_mode": {
    "name": "ipython",
    "version": 3
   },
   "file_extension": ".py",
   "mimetype": "text/x-python",
   "name": "python",
   "nbconvert_exporter": "python",
   "pygments_lexer": "ipython3",
   "version": "3.8.5"
  }
 },
 "nbformat": 4,
 "nbformat_minor": 4
}
